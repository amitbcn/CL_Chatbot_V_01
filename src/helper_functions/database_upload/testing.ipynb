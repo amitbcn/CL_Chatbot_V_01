{
 "cells": [
  {
   "cell_type": "code",
   "execution_count": 3,
   "id": "166bfccc",
   "metadata": {},
   "outputs": [],
   "source": [
    "import sys\n",
    "import os\n",
    "import pandas as pd\n",
    "import streamlit as st\n",
    "import yaml\n",
    "\n",
    "# Add project root to sys.path in Jupyter or interactive session\n",
    "sys.path.append(os.path.abspath(os.path.join(os.getcwd(), \"../../../\")))\n",
    "\n",
    "from config.path_config import DATA_DIR, PROJECT_DIR, DEPENDENCIES_DIR\n",
    "from src.helper_functions.data_pre_processing.data_upload_processor.processor import *\n",
    "from src.helper_functions.database_upload.postgres_uploader import *\n",
    "\n",
    "from dotenv import load_dotenv"
   ]
  },
  {
   "cell_type": "code",
   "execution_count": 4,
   "id": "c1421633",
   "metadata": {},
   "outputs": [
    {
     "name": "stdout",
     "output_type": "stream",
     "text": [
      "testing_mapping.yaml\n"
     ]
    }
   ],
   "source": [
    "yaml_file_path = \"testing_mapping.yaml\"\n",
    "print(yaml_file_path)"
   ]
  },
  {
   "cell_type": "code",
   "execution_count": 8,
   "id": "653c3461",
   "metadata": {},
   "outputs": [],
   "source": [
    "raw_data = pd.read_excel(os.path.join(DATA_DIR, \"wave_10_raw_data.xlsx\"))\n",
    "data_map = pd.read_excel(os.path.join(DATA_DIR, \"wave_10_data_map.xlsx\"))"
   ]
  },
  {
   "cell_type": "code",
   "execution_count": 5,
   "id": "cd12a9b0",
   "metadata": {},
   "outputs": [],
   "source": [
    "engine = create_postgres_engine('postgres', 'postgres', 'localhost', 5432, 'cl_survey_data')"
   ]
  },
  {
   "cell_type": "code",
   "execution_count": 7,
   "id": "e75c9d6c",
   "metadata": {},
   "outputs": [],
   "source": [
    "env_path = os.path.join(DEPENDENCIES_DIR, \".env\")\n",
    "load_dotenv(env_path)\n",
    "api_key = os.getenv(\"OPENAI_API_KEY\")"
   ]
  },
  {
   "cell_type": "code",
   "execution_count": 9,
   "id": "28e67849",
   "metadata": {},
   "outputs": [],
   "source": [
    "data_dict = run_question_data_pipeline(data_map, raw_data, api_key,'wave_10')"
   ]
  },
  {
   "cell_type": "code",
   "execution_count": 10,
   "id": "ce7a63da",
   "metadata": {},
   "outputs": [
    {
     "data": {
      "text/plain": [
       "dict_keys(['question_guide', 'mapped_data', 'type_subtype', 'question_dict', 'embeddings_metadata_df', 'embedding_df'])"
      ]
     },
     "execution_count": 10,
     "metadata": {},
     "output_type": "execute_result"
    }
   ],
   "source": [
    "data_dict.keys()"
   ]
  },
  {
   "cell_type": "code",
   "execution_count": 19,
   "id": "f21ad529",
   "metadata": {},
   "outputs": [
    {
     "data": {
      "text/html": [
       "<div>\n",
       "<style scoped>\n",
       "    .dataframe tbody tr th:only-of-type {\n",
       "        vertical-align: middle;\n",
       "    }\n",
       "\n",
       "    .dataframe tbody tr th {\n",
       "        vertical-align: top;\n",
       "    }\n",
       "\n",
       "    .dataframe thead th {\n",
       "        text-align: right;\n",
       "    }\n",
       "</style>\n",
       "<table border=\"1\" class=\"dataframe\">\n",
       "  <thead>\n",
       "    <tr style=\"text-align: right;\">\n",
       "      <th></th>\n",
       "      <th>primary_key</th>\n",
       "      <th>chunk_embedding</th>\n",
       "    </tr>\n",
       "  </thead>\n",
       "  <tbody>\n",
       "    <tr>\n",
       "      <th>0</th>\n",
       "      <td>wave_10_0</td>\n",
       "      <td>[0.009160860125099458, -0.012211981738858768, ...</td>\n",
       "    </tr>\n",
       "    <tr>\n",
       "      <th>1</th>\n",
       "      <td>wave_10_1</td>\n",
       "      <td>[-0.001735233869475999, -0.003143990760027482,...</td>\n",
       "    </tr>\n",
       "    <tr>\n",
       "      <th>2</th>\n",
       "      <td>wave_10_2</td>\n",
       "      <td>[0.0016934563369195971, -0.003148743004308896,...</td>\n",
       "    </tr>\n",
       "    <tr>\n",
       "      <th>3</th>\n",
       "      <td>wave_10_3</td>\n",
       "      <td>[0.005397405175799898, 0.010119272765629845, -...</td>\n",
       "    </tr>\n",
       "    <tr>\n",
       "      <th>4</th>\n",
       "      <td>wave_10_4</td>\n",
       "      <td>[0.01174797519237197, -0.010960044609830894, -...</td>\n",
       "    </tr>\n",
       "    <tr>\n",
       "      <th>...</th>\n",
       "      <td>...</td>\n",
       "      <td>...</td>\n",
       "    </tr>\n",
       "    <tr>\n",
       "      <th>73</th>\n",
       "      <td>wave_10_73</td>\n",
       "      <td>[-0.029641089178786578, -0.007390699618755048,...</td>\n",
       "    </tr>\n",
       "    <tr>\n",
       "      <th>74</th>\n",
       "      <td>wave_10_74</td>\n",
       "      <td>[-0.026912961709606834, -0.023842547580038904,...</td>\n",
       "    </tr>\n",
       "    <tr>\n",
       "      <th>75</th>\n",
       "      <td>wave_10_75</td>\n",
       "      <td>[-0.011305906926328437, -0.041125692850793615,...</td>\n",
       "    </tr>\n",
       "    <tr>\n",
       "      <th>76</th>\n",
       "      <td>wave_10_76</td>\n",
       "      <td>[0.0037498873825671402, -0.04143672981848321, ...</td>\n",
       "    </tr>\n",
       "    <tr>\n",
       "      <th>77</th>\n",
       "      <td>wave_10_77</td>\n",
       "      <td>[0.027343897228243794, 0.014889955563799701, -...</td>\n",
       "    </tr>\n",
       "  </tbody>\n",
       "</table>\n",
       "<p>78 rows × 2 columns</p>\n",
       "</div>"
      ],
      "text/plain": [
       "   primary_key                                    chunk_embedding\n",
       "0    wave_10_0  [0.009160860125099458, -0.012211981738858768, ...\n",
       "1    wave_10_1  [-0.001735233869475999, -0.003143990760027482,...\n",
       "2    wave_10_2  [0.0016934563369195971, -0.003148743004308896,...\n",
       "3    wave_10_3  [0.005397405175799898, 0.010119272765629845, -...\n",
       "4    wave_10_4  [0.01174797519237197, -0.010960044609830894, -...\n",
       "..         ...                                                ...\n",
       "73  wave_10_73  [-0.029641089178786578, -0.007390699618755048,...\n",
       "74  wave_10_74  [-0.026912961709606834, -0.023842547580038904,...\n",
       "75  wave_10_75  [-0.011305906926328437, -0.041125692850793615,...\n",
       "76  wave_10_76  [0.0037498873825671402, -0.04143672981848321, ...\n",
       "77  wave_10_77  [0.027343897228243794, 0.014889955563799701, -...\n",
       "\n",
       "[78 rows x 2 columns]"
      ]
     },
     "execution_count": 19,
     "metadata": {},
     "output_type": "execute_result"
    }
   ],
   "source": [
    "data_dict['embedding_df']"
   ]
  },
  {
   "cell_type": "code",
   "execution_count": 12,
   "id": "77607774",
   "metadata": {},
   "outputs": [
    {
     "name": "stderr",
     "output_type": "stream",
     "text": [
      "2025-04-11 13:45:40.171 Thread 'MainThread': missing ScriptRunContext! This warning can be ignored when running in bare mode.\n",
      "2025-04-11 13:45:40.173 Thread 'MainThread': missing ScriptRunContext! This warning can be ignored when running in bare mode.\n",
      "2025-04-11 13:45:40.219 Thread 'MainThread': missing ScriptRunContext! This warning can be ignored when running in bare mode.\n",
      "2025-04-11 13:45:40.221 Thread 'MainThread': missing ScriptRunContext! This warning can be ignored when running in bare mode.\n",
      "2025-04-11 13:45:40.223 Thread 'MainThread': missing ScriptRunContext! This warning can be ignored when running in bare mode.\n",
      "2025-04-11 13:45:40.225 Thread 'MainThread': missing ScriptRunContext! This warning can be ignored when running in bare mode.\n",
      "2025-04-11 13:45:40.262 Thread 'MainThread': missing ScriptRunContext! This warning can be ignored when running in bare mode.\n",
      "2025-04-11 13:45:40.263 Thread 'MainThread': missing ScriptRunContext! This warning can be ignored when running in bare mode.\n",
      "2025-04-11 13:45:40.265 Thread 'MainThread': missing ScriptRunContext! This warning can be ignored when running in bare mode.\n",
      "2025-04-11 13:45:40.266 Thread 'MainThread': missing ScriptRunContext! This warning can be ignored when running in bare mode.\n",
      "2025-04-11 13:45:40.311 Thread 'MainThread': missing ScriptRunContext! This warning can be ignored when running in bare mode.\n",
      "2025-04-11 13:45:40.312 Thread 'MainThread': missing ScriptRunContext! This warning can be ignored when running in bare mode.\n",
      "2025-04-11 13:45:40.439 Thread 'MainThread': missing ScriptRunContext! This warning can be ignored when running in bare mode.\n",
      "2025-04-11 13:45:40.441 Thread 'MainThread': missing ScriptRunContext! This warning can be ignored when running in bare mode.\n",
      "2025-04-11 13:45:40.476 Thread 'MainThread': missing ScriptRunContext! This warning can be ignored when running in bare mode.\n",
      "2025-04-11 13:45:40.478 Thread 'MainThread': missing ScriptRunContext! This warning can be ignored when running in bare mode.\n"
     ]
    },
    {
     "name": "stdout",
     "output_type": "stream",
     "text": [
      "{'Q8_000': 'Q8.Improved_quality_of_life__e.g.__closer_to_nature__family__shorter_commute_', 'Q14_001': 'Q14.Live_with_extended_family___relatives__e.g.__siblings__parents__grandparents__other_relatives_', 'Q25_002': 'Q25.Large_tech_companies__i.e._Google__Amazon__Apple__Microsoft__Facebook__Twitter_', 'Q25_003': 'Q25.Traditional_media__i.e._CBS__Fox__BBC__France2__ZDF__Telecinco_', 'Q26_004': 'Q26.I_am_currently_postponing_making_large_expenditures__e.g.__home_buying__home_improvement__until_I_know_the_results_of_the_US_election', 'Q26_005': 'Q26._I_am_currently_postponing_making_financial_investments__e.g.__stock_purchases__until_I_know_the_results_of_the_US_election', 'Q26_006': 'Q26.I_am_currently_reducing_my_day_to_day_spending_until_I_know_the_results_of_the_US_election', 'Q26_007': 'Q26.I_am_currently_postponing_moving___living_situation_decisions__e.g.__country__state__until_I_know_the_results_of_the_US_election', 'Q26_008': 'Q26.I_am_currently_postponing_work_decisions__e.g.__changing_jobs__increasing_or_reducing_hours__until_I_know_the_results_of_the_US_election', 'Q26_009': 'Q26.Optional___I_am_currently_postponing_other_life_decisions__please_specify__until_I_know_the_results_of_the_US_election__', 'Q26_010': 'Q26.Optional___I_am_currently_postponing_other_life_decisions__please_specify__until_I_know_the_results_of_the_US_election____user_input', 'Q30_011': 'Q30.Number_of_days_in_a_week__Pre_prepared_food_from_grocery_store', 'Q31_012': 'Q31.I_use_my_phone_to_text_my_partner__family_in_an_adjoining_room', 'Q31_013': 'Q31.I_regularly_use_my_phone_while_having_meals_with_my_partner___family___friends', 'Q31_014': 'Q31.My_phone_constantly_distracts_me_and_I_can_t_get_anything_done', 'Q32_015': 'Q32.My_employer___educational_institution_does_not_allow_me_to_WFH___study_at_home', 'Q34_016': 'Q34.Transport__e.g.__Ubers__public_transport_and___or_petrol___diesel_', 'Q34_017': 'Q34.Healthcare__e.g.__reducing_coverage_or_postponing_treatment_', 'Q34_018': 'Q34.Personal_care_products__e.g.__shampoo__deodorant__moisturizer_', 'Q34_019': 'Q34.Home_entertainment_and_subscriptions__e.g.__Netflix__Disney___Hulu__video_games__Amazon_Prime__Spotify_', 'Q34_020': 'Q34.Out_of_home_entertainment__e.g.__concerts__movies__sports_games_', 'Q35_021': 'Q35.Selling___renting_out_my_clothes___accessories_to_finance_new_purchases', 'Q38_022': 'Q38.Planning_vacations_further_in_advance_to_find_the_best_deals', 'Q39_023': 'Q39.Started_shopping_or_shopping_more_frequently_at_a_cheaper_store__e.g.__discounter__club__wholesaler__', 'Q39_024': 'Q39.Splitting_my_shopping_across_different_grocery_stores_to_get_the_best_price', 'Q41_025': 'Q41._Reduced_frequency_or_stopped_dog_walking_or_pet_sitting_services___Reduced_frequency_or_stopped_pet_sitting_services_', 'Q41_026': 'Q41.Reduced_or_stopped_other_pet_services__e.g.__psychologist__trainer_', 'Q42_027': 'Q42.Stopped_or_reduced_how_often_I_go_to_the_theatre___seeing_plays', 'Q42_028': 'Q42.Go_to_free_events_such_as_community_concerts__festivals__outdoor_movie_screenings', 'Q43_029': 'Q43.Bought_used_furniture_or_home_d_cor__e.g.__from_a_marketplace_or_a_second_hand_store_', 'Q44_030': 'Q44.Personal_care_products__e.g.__luxury_skincare__make_up__fragrances_', 'Q44_031': 'Q44.Self_care_and_wellness_services__e.g.__spa_treatments__nails__gym_membership_', 'Q44_032': 'Q44.Fashion_and_luxury_items__e.g.__designer_handbags__shoes__and_clothing_', 'Q44_033': 'Q44.Out_of_home_food_and_beverages__e.g.__dining_out__delivery___take_out__bars_', 'Q44_034': 'Q44.At_home_food_and_beverages__e.g.__high_quality_ingredients__gourmet_products__specialty_snacks__premium_alcohol_', 'Q44_035': 'Q44.Entertainment__e.g.__cinema__concerts___festivals__streaming_services_', 'Q45_036': 'Q45__Personal_care_products__e.g.__luxury_skincare__make_up__fragrances_', 'Q45_037': 'Q45__Self_care_and_wellness_services__e.g.__spa_treatments__nails__gym_membership_', 'Q45_038': 'Q45__Fashion_and_luxury_items__e.g.__designer_handbags__shoes__and_clothing_', 'Q45_039': 'Q45__Out_of_home_food_and_beverages__e.g.__dining_out__delivery___take_out__bars_', 'Q45_040': 'Q45__At_home_food_and_beverages__e.g.__high_quality_ingredients__gourmet_products__specialty_snacks__premium_alcohol_', 'Q45_041': 'Q45__Entertainment__e.g.__cinema__concerts___festivals__streaming_services_', 'Q48_042': 'Q48.Mental__e.g.__emotions__stress__anxiety__psychological__memory_', 'Q49_043': 'Q49.Reduce_tobacco_or_nicotine_usage__e.g.__cigarettes__nicotine_pouches_', 'Q49_044': 'Q49.Boost_brain_health__e.g.__improve_memory_or_cognitive_function_', 'Q49_045': 'Q49.Improve_other_physical_health_related_goals__e.g.__lower_blood_pressure__reduce_cholesterol__increase_mobility_', 'Q49_046': 'Q49.Focus_on_specific_dietary_related_goals__e.g.__gut_health__anti_inflammatory_', 'Q49_047': 'Q49.Focus_on_mental_health_related_goals__e.g.__reduce_anxiety__depression_', 'Q51_048': 'Q51.Engaging_with_art__e.g.__reading_a_book__going_to_museum__painting__listening_to_music_', 'Q53_049': 'Q53.Probiotic_drinks___prebiotic_drinks__e.g.__Kefir__Kombucha__', 'Q54_050': 'Q54__user_input__Probiotics___prebiotics_foods__e.g._fermented_food_', 'Q54_051': 'Q54__user_input__Alcoholic_beverages__e.g.__beer__wine__spirits_', 'Q54_052': 'Q54__user_input__Non_dairy_milks__e.g.__almond__oat__soy__coconut_', 'Q54_053': 'Q54__Probiotic_drinks___prebiotic_drinks__e.g.__Kefir__Kombucha__', 'Q54_054': 'Q54__user_input__Probiotic_drinks___prebiotic_drinks__e.g.__Kefir__Kombucha__', 'Q56_055': 'Q56.Non_Alcoholic_Alternatives__e.g.__non_alcoholic_beer__mocktails_', 'Q61_056': 'Q61.None_of_these_options_describe_me__or_I_prefer_to_self_describe_as__', 'Q61_057': 'Q61.None_of_these_options_describe_me__or_I_prefer_to_self_describe_as____user_input', 'Q70_058': 'Q70.Extreme_weather_where_I_live__e.g.__floods__wildfires__hurricanes_', 'Q70_059': 'Q70.Extreme_weather_around_the_world__e.g.__floods__wildfires__hurricanes_', 'Q70_060': 'Q70.Negative_environmental_impact_where_I_live_excluding_extreme_weather__e.g.__pollution_in_my_neighbourhood__poor_quality_drinking_water__landfill_', 'Q74_061': 'Q74.I_have_no_lifestyle_habits_because_of_sustainability_reasons', 'Q74_062': 'Q74.I_eat_plant_based_alternatives_to_meat__e.g.__vegan_burgers_', 'Q74_063': 'Q74.I_limit_my_home_energy_usage__e.g.__no_heating___air_conditioning_in_rooms_that_aren_t_in_use__very_short_showers_', 'Q74_064': 'Q74.I_purchase_products_second_hand__e.g.__furniture__home_items_', 'Q74_065': 'Q74.I_significantly_reduced_my_purchase_and___or_use_of_disposable_products', 'Q74_066': 'Q74.I_have_installed_renewable_energy_devices_in_my_home__e.g.__solar_panels__heat_pump_', 'Q74_067': 'Q74.I_carry_my_own_reusable_water_bottle___cutlery___straw_with_me', 'Q74_068': 'Q74.I_use_DIY_products_in_place_of_store_bought_products__e.g.__vinegar_in_household_cleaning_instead_of_chemical_detergents_', 'Q75_069': 'Q75.Personalised_assistance_and_customer_support_when_shopping_online', 'Q75_070': 'Q75.Personalised_recommendations__e.g.__products__content__romantic_partners__meal_planning_', 'Q75_071': 'Q75.Online_search_instead_of_traditional_engines__e.g.__Google__Bing_', 'Q75_072': 'Q75.Companionship_that_replicates_human_friendships__e.g.__Snap_Chat__My_AI___Replika_', 'Q76_073': 'Q76.Reviews_or_assessments__e.g.__AI_assisted_credit_rating_or_staff_performance_', 'Q76_074': 'Q76.Financial_advice__e.g.__investments__credit_card_recommendations_', 'Q77_075': 'Q77.Reviews_or_assessments__e.g.__AI_assisted_credit_rating_or_staff_performance_', 'Q77_076': 'Q77.Financial_advice__e.g._investments__credit_card_recommendations_', 'Q78_077': 'Q78.AI_will_steal_my_identity__e.g.__replicate_my_voice__facial_recognition_', 'Q78_078': 'Q78.AI_will_use_my_data_to_help_employers__lenders__etc._evaluate_me'}\n"
     ]
    },
    {
     "name": "stderr",
     "output_type": "stream",
     "text": [
      "2025-04-11 13:46:16.991 Thread 'MainThread': missing ScriptRunContext! This warning can be ignored when running in bare mode.\n",
      "2025-04-11 13:46:16.992 Thread 'MainThread': missing ScriptRunContext! This warning can be ignored when running in bare mode.\n"
     ]
    }
   ],
   "source": [
    "push_dataframe_to_postgres_db(data_dict['embeddings_metadata_df'], 'wave_9_embeddings_metadata', engine)\n",
    "push_dataframe_to_postgres_db(data_dict['type_subtype'], file_name='wave_9_type_subtype', engine=engine)\n",
    "push_dataframe_to_postgres_db(data_dict['question_guide'], 'wave_9_question_guide', engine)\n",
    "process_raw_data(data_dict['mapped_data'], 'wave_9', engine, response_id_col='Respondent', chunk_size=60)"
   ]
  },
  {
   "cell_type": "code",
   "execution_count": 21,
   "id": "ab6a6f9f",
   "metadata": {},
   "outputs": [
    {
     "data": {
      "text/html": [
       "<div>\n",
       "<style scoped>\n",
       "    .dataframe tbody tr th:only-of-type {\n",
       "        vertical-align: middle;\n",
       "    }\n",
       "\n",
       "    .dataframe tbody tr th {\n",
       "        vertical-align: top;\n",
       "    }\n",
       "\n",
       "    .dataframe thead th {\n",
       "        text-align: right;\n",
       "    }\n",
       "</style>\n",
       "<table border=\"1\" class=\"dataframe\">\n",
       "  <thead>\n",
       "    <tr style=\"text-align: right;\">\n",
       "      <th></th>\n",
       "      <th>primary_key</th>\n",
       "      <th>chunk_embedding</th>\n",
       "    </tr>\n",
       "  </thead>\n",
       "  <tbody>\n",
       "    <tr>\n",
       "      <th>0</th>\n",
       "      <td>wave_10_0</td>\n",
       "      <td>[0.009160860125099458, -0.012211981738858768, ...</td>\n",
       "    </tr>\n",
       "    <tr>\n",
       "      <th>1</th>\n",
       "      <td>wave_10_1</td>\n",
       "      <td>[-0.001735233869475999, -0.003143990760027482,...</td>\n",
       "    </tr>\n",
       "    <tr>\n",
       "      <th>2</th>\n",
       "      <td>wave_10_2</td>\n",
       "      <td>[0.0016934563369195971, -0.003148743004308896,...</td>\n",
       "    </tr>\n",
       "    <tr>\n",
       "      <th>3</th>\n",
       "      <td>wave_10_3</td>\n",
       "      <td>[0.005397405175799898, 0.010119272765629845, -...</td>\n",
       "    </tr>\n",
       "    <tr>\n",
       "      <th>4</th>\n",
       "      <td>wave_10_4</td>\n",
       "      <td>[0.01174797519237197, -0.010960044609830894, -...</td>\n",
       "    </tr>\n",
       "  </tbody>\n",
       "</table>\n",
       "</div>"
      ],
      "text/plain": [
       "  primary_key                                    chunk_embedding\n",
       "0   wave_10_0  [0.009160860125099458, -0.012211981738858768, ...\n",
       "1   wave_10_1  [-0.001735233869475999, -0.003143990760027482,...\n",
       "2   wave_10_2  [0.0016934563369195971, -0.003148743004308896,...\n",
       "3   wave_10_3  [0.005397405175799898, 0.010119272765629845, -...\n",
       "4   wave_10_4  [0.01174797519237197, -0.010960044609830894, -..."
      ]
     },
     "execution_count": 21,
     "metadata": {},
     "output_type": "execute_result"
    }
   ],
   "source": [
    "data_dict['embedding_df'].head(5)"
   ]
  },
  {
   "cell_type": "code",
   "execution_count": 26,
   "id": "976227be",
   "metadata": {},
   "outputs": [],
   "source": [
    "import psycopg2\n",
    "from psycopg2.extras import execute_batch\n",
    "\n",
    "def store_embeddings_to_pgvector(df: pd.DataFrame, db_config: dict, table_name: str, label_column=\"primary_key\", embedding_column=\"chunk_embedding\"):\n",
    "    \"\"\"\n",
    "    Store a pandas DataFrame with vector embeddings into a PostgreSQL table using PGVector.\n",
    "\n",
    "    Parameters:\n",
    "        df (pd.DataFrame): DataFrame with a label and an embedding column.\n",
    "        db_config (dict): Dictionary with keys: dbname, user, password, host, port.\n",
    "        table_name (str): Name of the table to store data in.\n",
    "        label_column (str): Column in df that contains the labels (e.g. text).\n",
    "        embedding_column (str): Column in df that contains the embeddings (list of floats).\n",
    "    \"\"\"\n",
    "\n",
    "    # Get embedding dimension\n",
    "    sample_embedding = df.iloc[0][embedding_column]\n",
    "    vector_dim = len(sample_embedding)\n",
    "\n",
    "    # Connect to database\n",
    "    conn = psycopg2.connect(**db_config)\n",
    "    cur = conn.cursor()\n",
    "\n",
    "    # Ensure PGVector extension is enabled\n",
    "    cur.execute(\"CREATE EXTENSION IF NOT EXISTS vector;\")\n",
    "\n",
    "    # Create table\n",
    "    cur.execute(f\"\"\"\n",
    "        CREATE TABLE IF NOT EXISTS {table_name} (\n",
    "            id SERIAL PRIMARY KEY,\n",
    "            {label_column} TEXT,\n",
    "            {embedding_column} VECTOR({vector_dim})\n",
    "        );\n",
    "    \"\"\")\n",
    "\n",
    "    table_name = table_name + \"_embeddings\"\n",
    "    # Insert data using batch insert\n",
    "    rows = [(row[label_column], row[embedding_column]) for _, row in df.iterrows()]\n",
    "    execute_batch(cur, f\"\"\"\n",
    "        INSERT INTO {table_name} ({label_column}, {embedding_column})\n",
    "        VALUES (%s, %s)\n",
    "    \"\"\", rows)\n",
    "\n",
    "    conn.commit()\n",
    "    cur.close()\n",
    "    conn.close()\n",
    "    print(f\"✅ Successfully inserted {len(rows)} records into '{table_name}'.\")\n",
    "\n"
   ]
  },
  {
   "cell_type": "code",
   "execution_count": 24,
   "id": "6e2bbbb6",
   "metadata": {},
   "outputs": [],
   "source": [
    "db_config = {\n",
    "    \"user\": \"postgres\",\n",
    "    \"password\": \"postgres\",\n",
    "    \"host\": \"localhost\",\n",
    "    \"port\": 5432,\n",
    "    \"dbname\": \"cl_survey_data\"\n",
    "}\n"
   ]
  },
  {
   "cell_type": "code",
   "execution_count": 25,
   "id": "cde28074",
   "metadata": {},
   "outputs": [
    {
     "ename": "FeatureNotSupported",
     "evalue": "extension \"vector\" is not available\nDETAIL:  Could not open extension control file \"C:/Program Files/PostgreSQL/17/share/extension/vector.control\": No such file or directory.\nHINT:  The extension must first be installed on the system where PostgreSQL is running.\n",
     "output_type": "error",
     "traceback": [
      "\u001b[31m---------------------------------------------------------------------------\u001b[39m",
      "\u001b[31mFeatureNotSupported\u001b[39m                       Traceback (most recent call last)",
      "\u001b[36mCell\u001b[39m\u001b[36m \u001b[39m\u001b[32mIn[25]\u001b[39m\u001b[32m, line 1\u001b[39m\n\u001b[32m----> \u001b[39m\u001b[32m1\u001b[39m \u001b[43mstore_embeddings_to_pgvector\u001b[49m\u001b[43m(\u001b[49m\u001b[43mdata_dict\u001b[49m\u001b[43m[\u001b[49m\u001b[33;43m'\u001b[39;49m\u001b[33;43membedding_df\u001b[39;49m\u001b[33;43m'\u001b[39;49m\u001b[43m]\u001b[49m\u001b[43m,\u001b[49m\u001b[43m \u001b[49m\u001b[43mdb_config\u001b[49m\u001b[43m,\u001b[49m\u001b[43m \u001b[49m\u001b[33;43m'\u001b[39;49m\u001b[33;43mwave_9_embeddings\u001b[39;49m\u001b[33;43m'\u001b[39;49m\u001b[43m,\u001b[49m\u001b[43m \u001b[49m\u001b[43mlabel_column\u001b[49m\u001b[43m=\u001b[49m\u001b[33;43m'\u001b[39;49m\u001b[33;43mprimary_key\u001b[39;49m\u001b[33;43m'\u001b[39;49m\u001b[43m,\u001b[49m\u001b[43m \u001b[49m\u001b[43membedding_column\u001b[49m\u001b[43m=\u001b[49m\u001b[33;43m'\u001b[39;49m\u001b[33;43mchunk_embedding\u001b[39;49m\u001b[33;43m'\u001b[39;49m\u001b[43m)\u001b[49m\n",
      "\u001b[36mCell\u001b[39m\u001b[36m \u001b[39m\u001b[32mIn[23]\u001b[39m\u001b[32m, line 25\u001b[39m, in \u001b[36mstore_embeddings_to_pgvector\u001b[39m\u001b[34m(df, db_config, table_name, label_column, embedding_column)\u001b[39m\n\u001b[32m     22\u001b[39m cur = conn.cursor()\n\u001b[32m     24\u001b[39m \u001b[38;5;66;03m# Ensure PGVector extension is enabled\u001b[39;00m\n\u001b[32m---> \u001b[39m\u001b[32m25\u001b[39m \u001b[43mcur\u001b[49m\u001b[43m.\u001b[49m\u001b[43mexecute\u001b[49m\u001b[43m(\u001b[49m\u001b[33;43m\"\u001b[39;49m\u001b[33;43mCREATE EXTENSION IF NOT EXISTS vector;\u001b[39;49m\u001b[33;43m\"\u001b[39;49m\u001b[43m)\u001b[49m\n\u001b[32m     27\u001b[39m \u001b[38;5;66;03m# Create table\u001b[39;00m\n\u001b[32m     28\u001b[39m cur.execute(\u001b[33mf\u001b[39m\u001b[33m\"\"\"\u001b[39m\n\u001b[32m     29\u001b[39m \u001b[33m    CREATE TABLE IF NOT EXISTS \u001b[39m\u001b[38;5;132;01m{\u001b[39;00mtable_name\u001b[38;5;132;01m}\u001b[39;00m\u001b[33m (\u001b[39m\n\u001b[32m     30\u001b[39m \u001b[33m        id SERIAL PRIMARY KEY,\u001b[39m\n\u001b[32m   (...)\u001b[39m\u001b[32m     33\u001b[39m \u001b[33m    );\u001b[39m\n\u001b[32m     34\u001b[39m \u001b[33m\u001b[39m\u001b[33m\"\"\"\u001b[39m)\n",
      "\u001b[31mFeatureNotSupported\u001b[39m: extension \"vector\" is not available\nDETAIL:  Could not open extension control file \"C:/Program Files/PostgreSQL/17/share/extension/vector.control\": No such file or directory.\nHINT:  The extension must first be installed on the system where PostgreSQL is running.\n"
     ]
    }
   ],
   "source": [
    "store_embeddings_to_pgvector(data_dict['embedding_df'], db_config, 'wave_9_embeddings', label_column='primary_key', embedding_column='chunk_embedding')"
   ]
  },
  {
   "cell_type": "code",
   "execution_count": null,
   "id": "382947b4",
   "metadata": {},
   "outputs": [],
   "source": []
  }
 ],
 "metadata": {
  "kernelspec": {
   "display_name": "Python 3",
   "language": "python",
   "name": "python3"
  },
  "language_info": {
   "codemirror_mode": {
    "name": "ipython",
    "version": 3
   },
   "file_extension": ".py",
   "mimetype": "text/x-python",
   "name": "python",
   "nbconvert_exporter": "python",
   "pygments_lexer": "ipython3",
   "version": "3.13.2"
  }
 },
 "nbformat": 4,
 "nbformat_minor": 5
}
