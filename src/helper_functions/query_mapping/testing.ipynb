{
 "cells": [
  {
   "cell_type": "code",
   "execution_count": null,
   "id": "bf4fc71e",
   "metadata": {},
   "outputs": [
    {
     "ename": "",
     "evalue": "",
     "output_type": "error",
     "traceback": [
      "\u001b[1;31mThe Kernel crashed while executing code in the current cell or a previous cell. \n",
      "\u001b[1;31mPlease review the code in the cell(s) to identify a possible cause of the failure. \n",
      "\u001b[1;31mClick <a href='https://aka.ms/vscodeJupyterKernelCrash'>here</a> for more info. \n",
      "\u001b[1;31mView Jupyter <a href='command:jupyter.viewOutput'>log</a> for further details."
     ]
    }
   ],
   "source": [
    "# Add project root to sys.path in Jupyter or interactive session\n",
    "import sys\n",
    "import os\n",
    "sys.path.append(os.path.abspath(os.path.join(os.getcwd(), \"../../..\")))\n",
    "\n",
    "from config.path_config import DATA_DIR, PROJECT_DIR, DEPENDENCIES_DIR\n",
    "from src.helper_functions.data_pre_processing.data_upload_processor.processor import *\n",
    "from src.helper_functions.database_upload.postgres_uploader import *\n",
    "from src.helper_functions.query_mapping.query_mapping_functions import *\n",
    "\n",
    "\n",
    "from dotenv import load_dotenv\n",
    "\n",
    "\n",
    "prompt = {\"system_prompt\": \"You are an analyst, working for Bain Consulting's consumer practice COE.\",\n",
    "        \"user_prompt\": \"\"\"You allow a user to ask a question and then, from a list of questions from a consumer survey, you identify the questions that answer \n",
    "                        their query most accurately. The query is: {query}\n",
    "                and the list of questions is this:\n",
    "                {formatted_questions}\n",
    "                **************************\n",
    "\n",
    "                Please rank these questions in order of how accurately the questions answer the query. \n",
    "                I want you to rank all the questions and then return a list of the question numbers in a decreasing order of relevancy. \n",
    "                Do not repeat the same question in the list.\n",
    "                \n",
    "                ONLY RETURN THE LIST AND NOTHING ELSE. For example: [2,3,1]\"\"\"\n",
    "        }\n",
    "\n"
   ]
  },
  {
   "cell_type": "code",
   "execution_count": null,
   "id": "cdc68fcb",
   "metadata": {},
   "outputs": [],
   "source": [
    "raw_data = pd.read_excel(os.path.join(DATA_DIR, \"wave_10_raw_data.xlsx\"))\n",
    "data_map = pd.read_excel(os.path.join(DATA_DIR, \"wave_10_data_map.xlsx\"))"
   ]
  },
  {
   "cell_type": "code",
   "execution_count": null,
   "id": "9d3e1ed5",
   "metadata": {},
   "outputs": [],
   "source": [
    "env_path = os.path.join(DEPENDENCIES_DIR, \".env\")\n",
    "load_dotenv(env_path)\n",
    "api_key = os.getenv(\"OPENAI_API_KEY\")\n",
    "\n",
    "model = initializing_open_ai_model(api_key)\n",
    "\n",
    "prompt_template = promt_to_sort_llm(prompt)"
   ]
  },
  {
   "cell_type": "code",
   "execution_count": null,
   "id": "b29216fb",
   "metadata": {},
   "outputs": [
    {
     "name": "stderr",
     "output_type": "stream",
     "text": [
      "c:\\Users\\72670\\OneDrive - Bain\\Documents\\BCN Labs\\Projects\\2024\\CL Excel Chatbot\\repo\\CL_Chatbot_V_01\\src\\helper_functions\\data_pre_processing\\data_upload_processor\\question_embedder.py:58: LangChainDeprecationWarning: The class `OpenAIEmbeddings` was deprecated in LangChain 0.0.9 and will be removed in 1.0. An updated version of the class exists in the :class:`~langchain-openai package and should be used instead. To use it run `pip install -U :class:`~langchain-openai` and import as `from :class:`~langchain_openai import OpenAIEmbeddings``.\n",
      "  text_splitter = SemanticChunker(OpenAIEmbeddings(api_key=api_key), breakpoint_threshold_type=\"standard_deviation\")\n"
     ]
    }
   ],
   "source": [
    "data_dict = run_question_data_pipeline(data_map, raw_data, api_key,'wave_10')"
   ]
  },
  {
   "cell_type": "code",
   "execution_count": null,
   "id": "d1a6653a",
   "metadata": {},
   "outputs": [],
   "source": [
    "query = \"What are respondents worried about\""
   ]
  },
  {
   "cell_type": "code",
   "execution_count": null,
   "id": "24d58448",
   "metadata": {},
   "outputs": [
    {
     "name": "stdout",
     "output_type": "stream",
     "text": [
      "['Q21', 'Q22', 'Q24']\n"
     ]
    }
   ],
   "source": [
    "result = get_best_question_info(query, api_key, data_dict['question_dict'], prompt_template, model, data_dict['type_subtype'], top_n=5, top_q=3)"
   ]
  },
  {
   "cell_type": "code",
   "execution_count": null,
   "id": "605e4f95",
   "metadata": {},
   "outputs": [
    {
     "data": {
      "text/plain": [
       "'Multiple choice'"
      ]
     },
     "execution_count": 17,
     "metadata": {},
     "output_type": "execute_result"
    }
   ],
   "source": [
    "result['type']"
   ]
  },
  {
   "cell_type": "code",
   "execution_count": null,
   "id": "e6df026c",
   "metadata": {},
   "outputs": [],
   "source": [
    "def _get_best_question_info_tool(query: str) -> dict:\n",
    "    return get_best_question_info(\n",
    "        api_key=api_key,\n",
    "        query=query,\n",
    "        question_dict_with_embedding=data_dict['question_dict'],\n",
    "        prompt_for_llm_sorting=prompt_template,\n",
    "        model=model,\n",
    "        type_sub_type_df=data_dict['type_subtype']\n",
    "    )"
   ]
  },
  {
   "cell_type": "code",
   "execution_count": null,
   "id": "f515e139",
   "metadata": {},
   "outputs": [
    {
     "name": "stdout",
     "output_type": "stream",
     "text": [
      "['Q21', 'Q22', 'Q24']\n"
     ]
    },
    {
     "data": {
      "text/plain": [
       "{'question_id': 'Q21',\n",
       " 'question_text': 'Please describe what are you most worried / pessimistic about in the future?\\xa0',\n",
       " 'type': 'Multiple choice',\n",
       " 'subtype': 'single-select',\n",
       " 'full_row':   Question_no.                                           Question  \\\n",
       " 3          Q21  Please describe what are you most worried / pe...   \n",
       " \n",
       "               Type       Sub-type  \n",
       " 3  Multiple choice  single-select  }"
      ]
     },
     "execution_count": 24,
     "metadata": {},
     "output_type": "execute_result"
    }
   ],
   "source": [
    "_get_best_question_info_tool(query)"
   ]
  },
  {
   "cell_type": "code",
   "execution_count": null,
   "id": "f68c3053",
   "metadata": {},
   "outputs": [],
   "source": []
  }
 ],
 "metadata": {
  "kernelspec": {
   "display_name": "Python 3",
   "language": "python",
   "name": "python3"
  },
  "language_info": {
   "codemirror_mode": {
    "name": "ipython",
    "version": 3
   },
   "file_extension": ".py",
   "mimetype": "text/x-python",
   "name": "python",
   "nbconvert_exporter": "python",
   "pygments_lexer": "ipython3",
   "version": "3.13.2"
  }
 },
 "nbformat": 4,
 "nbformat_minor": 5
}
