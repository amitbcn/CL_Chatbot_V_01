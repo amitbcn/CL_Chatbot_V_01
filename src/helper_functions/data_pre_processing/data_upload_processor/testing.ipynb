{
 "cells": [
  {
   "cell_type": "code",
   "execution_count": 1,
   "id": "b201d88f",
   "metadata": {},
   "outputs": [
    {
     "ename": "ImportError",
     "evalue": "attempted relative import with no known parent package",
     "output_type": "error",
     "traceback": [
      "\u001b[31m---------------------------------------------------------------------------\u001b[39m",
      "\u001b[31mImportError\u001b[39m                               Traceback (most recent call last)",
      "\u001b[36mCell\u001b[39m\u001b[36m \u001b[39m\u001b[32mIn[1]\u001b[39m\u001b[32m, line 9\u001b[39m\n\u001b[32m      6\u001b[39m sys.path.append(os.path.abspath(os.path.join(os.getcwd(), \u001b[33m\"\u001b[39m\u001b[33m../../../..\u001b[39m\u001b[33m\"\u001b[39m)))\n\u001b[32m      8\u001b[39m \u001b[38;5;28;01mfrom\u001b[39;00m\u001b[38;5;250m \u001b[39m\u001b[34;01mconfig\u001b[39;00m\u001b[34;01m.\u001b[39;00m\u001b[34;01mpath_config\u001b[39;00m\u001b[38;5;250m \u001b[39m\u001b[38;5;28;01mimport\u001b[39;00m DATA_DIR, PROJECT_DIR, DEPENDENCIES_DIR\n\u001b[32m----> \u001b[39m\u001b[32m9\u001b[39m \u001b[38;5;28;01mfrom\u001b[39;00m\u001b[38;5;250m \u001b[39m\u001b[34;01mprocessor\u001b[39;00m\u001b[38;5;250m \u001b[39m\u001b[38;5;28;01mimport\u001b[39;00m *\n\u001b[32m     11\u001b[39m \u001b[38;5;28;01mfrom\u001b[39;00m\u001b[38;5;250m \u001b[39m\u001b[34;01mdotenv\u001b[39;00m\u001b[38;5;250m \u001b[39m\u001b[38;5;28;01mimport\u001b[39;00m load_dotenv\n",
      "\u001b[36mFile \u001b[39m\u001b[32mc:\\Users\\72670\\OneDrive - Bain\\Documents\\BCN Labs\\Projects\\2024\\CL Excel Chatbot\\repo\\CL_Chatbot_V_01\\src\\helper_functions\\data_pre_processing\\data_upload_processor\\processor.py:6\u001b[39m\n\u001b[32m      3\u001b[39m \u001b[38;5;28;01mimport\u001b[39;00m\u001b[38;5;250m \u001b[39m\u001b[34;01msys\u001b[39;00m\n\u001b[32m      4\u001b[39m sys.path.append(os.path.abspath(os.path.join(os.getcwd(), \u001b[33m\"\u001b[39m\u001b[33m../../../..\u001b[39m\u001b[33m\"\u001b[39m)))\n\u001b[32m----> \u001b[39m\u001b[32m6\u001b[39m \u001b[38;5;28;01mfrom\u001b[39;00m\u001b[38;5;250m \u001b[39m\u001b[34;01m.\u001b[39;00m\u001b[34;01mdata_processing\u001b[39;00m\u001b[38;5;250m \u001b[39m\u001b[38;5;28;01mimport\u001b[39;00m *\n\u001b[32m      7\u001b[39m \u001b[38;5;28;01mfrom\u001b[39;00m\u001b[38;5;250m \u001b[39m\u001b[34;01m.\u001b[39;00m\u001b[34;01mtype_subtype_categorizer\u001b[39;00m\u001b[38;5;250m \u001b[39m\u001b[38;5;28;01mimport\u001b[39;00m *\n\u001b[32m      8\u001b[39m \u001b[38;5;28;01mfrom\u001b[39;00m\u001b[38;5;250m \u001b[39m\u001b[34;01m.\u001b[39;00m\u001b[34;01mquestion_embedder\u001b[39;00m\u001b[38;5;250m \u001b[39m\u001b[38;5;28;01mimport\u001b[39;00m *\n",
      "\u001b[31mImportError\u001b[39m: attempted relative import with no known parent package"
     ]
    }
   ],
   "source": [
    "import sys\n",
    "import os\n",
    "import pandas as pd\n",
    "\n",
    "# Add project root to sys.path in Jupyter or interactive session\n",
    "sys.path.append(os.path.abspath(os.path.join(os.getcwd(), \"../../../..\")))\n",
    "\n",
    "from config.path_config import DATA_DIR, PROJECT_DIR, DEPENDENCIES_DIR\n",
    "from processor import *\n",
    "\n",
    "from dotenv import load_dotenv"
   ]
  },
  {
   "cell_type": "code",
   "execution_count": 2,
   "id": "81bce78f",
   "metadata": {},
   "outputs": [],
   "source": [
    "env_path = os.path.join(DEPENDENCIES_DIR, \".env\")\n",
    "load_dotenv(env_path)\n",
    "api_key = os.getenv(\"OPENAI_API_KEY\")"
   ]
  },
  {
   "cell_type": "code",
   "execution_count": 3,
   "id": "002e59c2",
   "metadata": {},
   "outputs": [],
   "source": [
    "raw_data = pd.read_excel(os.path.join(DATA_DIR, \"wave_9_raw_data.xlsx\"))\n",
    "data_map = pd.read_excel(os.path.join(DATA_DIR, \"wave_9_data_map.xlsx\"))"
   ]
  },
  {
   "cell_type": "code",
   "execution_count": 5,
   "id": "396d37fe",
   "metadata": {},
   "outputs": [
    {
     "name": "stderr",
     "output_type": "stream",
     "text": [
      "c:\\Users\\72670\\OneDrive - Bain\\Documents\\BCN Labs\\Projects\\2024\\CL Excel Chatbot\\repo\\CL_Chatbot_V_01\\src\\helper_functions\\data_pre_processing\\data_upload_processor\\question_embedder.py:58: LangChainDeprecationWarning: The class `OpenAIEmbeddings` was deprecated in LangChain 0.0.9 and will be removed in 1.0. An updated version of the class exists in the :class:`~langchain-openai package and should be used instead. To use it run `pip install -U :class:`~langchain-openai` and import as `from :class:`~langchain_openai import OpenAIEmbeddings``.\n",
      "  text_splitter = SemanticChunker(OpenAIEmbeddings(api_key=api_key), breakpoint_threshold_type=\"standard_deviation\")\n"
     ]
    }
   ],
   "source": [
    "data_dict = run_question_data_pipeline(data_map, raw_data, api_key, source = \"wave_9\")"
   ]
  },
  {
   "cell_type": "code",
   "execution_count": null,
   "id": "03b17870",
   "metadata": {},
   "outputs": [
    {
     "data": {
      "text/plain": [
       "dict_keys(['question_guide', 'mapped_data', 'type_subtype_df', 'question_dict', 'metadata_df', 'embedding_df'])"
      ]
     },
     "execution_count": 8,
     "metadata": {},
     "output_type": "execute_result"
    }
   ],
   "source": [
    "data_dict.keys()"
   ]
  },
  {
   "cell_type": "code",
   "execution_count": null,
   "id": "122cea3b",
   "metadata": {},
   "outputs": [
    {
     "data": {
      "text/html": [
       "<div>\n",
       "<style scoped>\n",
       "    .dataframe tbody tr th:only-of-type {\n",
       "        vertical-align: middle;\n",
       "    }\n",
       "\n",
       "    .dataframe tbody tr th {\n",
       "        vertical-align: top;\n",
       "    }\n",
       "\n",
       "    .dataframe thead th {\n",
       "        text-align: right;\n",
       "    }\n",
       "</style>\n",
       "<table border=\"1\" class=\"dataframe\">\n",
       "  <thead>\n",
       "    <tr style=\"text-align: right;\">\n",
       "      <th></th>\n",
       "      <th>primary_key</th>\n",
       "      <th>chunk_embedding</th>\n",
       "    </tr>\n",
       "  </thead>\n",
       "  <tbody>\n",
       "    <tr>\n",
       "      <th>0</th>\n",
       "      <td>None_0</td>\n",
       "      <td>[0.027508583286564272, 0.015063880212262102, -...</td>\n",
       "    </tr>\n",
       "    <tr>\n",
       "      <th>1</th>\n",
       "      <td>None_1</td>\n",
       "      <td>[0.009090669562482358, -0.012050946084775464, ...</td>\n",
       "    </tr>\n",
       "    <tr>\n",
       "      <th>2</th>\n",
       "      <td>None_2</td>\n",
       "      <td>[-0.0012465768059475503, -0.00592076697830741,...</td>\n",
       "    </tr>\n",
       "    <tr>\n",
       "      <th>3</th>\n",
       "      <td>None_3</td>\n",
       "      <td>[0.001389718413359219, -0.002768948272522704, ...</td>\n",
       "    </tr>\n",
       "    <tr>\n",
       "      <th>4</th>\n",
       "      <td>None_4</td>\n",
       "      <td>[0.009729691536795966, 0.00955254094903622, -0...</td>\n",
       "    </tr>\n",
       "    <tr>\n",
       "      <th>...</th>\n",
       "      <td>...</td>\n",
       "      <td>...</td>\n",
       "    </tr>\n",
       "    <tr>\n",
       "      <th>75</th>\n",
       "      <td>None_75</td>\n",
       "      <td>[0.0029118902105594, 0.002019840865780762, -0....</td>\n",
       "    </tr>\n",
       "    <tr>\n",
       "      <th>76</th>\n",
       "      <td>None_76</td>\n",
       "      <td>[0.01360639929445543, -0.02321880710084608, -0...</td>\n",
       "    </tr>\n",
       "    <tr>\n",
       "      <th>77</th>\n",
       "      <td>None_77</td>\n",
       "      <td>[-0.0012342995720612806, 0.040774716353838475,...</td>\n",
       "    </tr>\n",
       "    <tr>\n",
       "      <th>78</th>\n",
       "      <td>None_78</td>\n",
       "      <td>[0.01427455936501174, 0.016729721154831925, -0...</td>\n",
       "    </tr>\n",
       "    <tr>\n",
       "      <th>79</th>\n",
       "      <td>None_79</td>\n",
       "      <td>[0.007743530933297009, -0.03519993287477484, -...</td>\n",
       "    </tr>\n",
       "  </tbody>\n",
       "</table>\n",
       "<p>80 rows × 2 columns</p>\n",
       "</div>"
      ],
      "text/plain": [
       "   primary_key                                    chunk_embedding\n",
       "0       None_0  [0.027508583286564272, 0.015063880212262102, -...\n",
       "1       None_1  [0.009090669562482358, -0.012050946084775464, ...\n",
       "2       None_2  [-0.0012465768059475503, -0.00592076697830741,...\n",
       "3       None_3  [0.001389718413359219, -0.002768948272522704, ...\n",
       "4       None_4  [0.009729691536795966, 0.00955254094903622, -0...\n",
       "..         ...                                                ...\n",
       "75     None_75  [0.0029118902105594, 0.002019840865780762, -0....\n",
       "76     None_76  [0.01360639929445543, -0.02321880710084608, -0...\n",
       "77     None_77  [-0.0012342995720612806, 0.040774716353838475,...\n",
       "78     None_78  [0.01427455936501174, 0.016729721154831925, -0...\n",
       "79     None_79  [0.007743530933297009, -0.03519993287477484, -...\n",
       "\n",
       "[80 rows x 2 columns]"
      ]
     },
     "execution_count": 14,
     "metadata": {},
     "output_type": "execute_result"
    }
   ],
   "source": [
    "data_dict['embedding_df']"
   ]
  },
  {
   "cell_type": "code",
   "execution_count": null,
   "id": "c4e1a7bf",
   "metadata": {},
   "outputs": [
    {
     "data": {
      "text/plain": [
       "dict_keys(['question_code', 'question_text', 'question_with_answers', 'answer_options', 'source', 'chunk_text', 'chunk_embedding'])"
      ]
     },
     "execution_count": 28,
     "metadata": {},
     "output_type": "execute_result"
    }
   ],
   "source": [
    "d[0].keys()"
   ]
  },
  {
   "cell_type": "code",
   "execution_count": null,
   "id": "31dfe7c6",
   "metadata": {},
   "outputs": [
    {
     "name": "stdout",
     "output_type": "stream",
     "text": [
      "80\n",
      "What is the highest degree or level of school you have completed? Some high school, no diploma|| High school graduate (or equivalent)|| Some college credit, no degree|| Vocational, Trade, or Technical training|| Associate's Degree|| Bachelor's Degree|| Master's Degree|| Doctoral or Professional Degree (PhD, Ed.D, JD, DVM, DO, MD, DDS, or above)|| Left school before GCSEs|| Completed GCSEs|| Completed A Levels|| Some college, but no degree|| Degree or masters (Bsc/Msc, BA/MA, MEng etc)|| Professional Degree (e.g. MD, JD, MBA) UK|| Doctorate (e.g. PhD, EdD) UK|| Grundschule|| Hauptschule|| Realschule|| Gymnasium/ Berufliches Gymnasium/ Fachgymnasium|| Fachoberschule, Fachschule, Berufsschule, Berufsfachschule|| Technische Hochschule/ Padagogische Hochschule, Kunsthochschule/ Musikhochschule|| Fachhochschule|| Universität, Technische Universität|| Universität / Hoschschule|| Doktorat oder höher|| Enseignement secondaire incomplet (Collège ou Lycée)|| Enseignement secondaire achevé (Baccalauréat ou équivalent)|| Universitaire ou professionnel mais pas (encore) obtenu le certificat/diplome (CAP/BEP)|| Certification professionnelle achevée (BTS, DUT ou équivalent)|| Formation universitaire achevée (Bac+3)|| Formation supérieure achevée (Bac+5 : Master, diplôme d'ingénieur ou équivalent)|| Doctorat, post-doctorat ou équivalent (Bac +8) ou plus|| Less than high school diploma|| High school diploma or GED|| Associate's Degree (e.g. AA, AS)|| Bachelor's Degree (e.g. BA, BS)|| Master's Degree (e.g. MA, MS, MEng)|| Professional Degree (e.g. MD, JD, MBA)|| Doctorate (e.g. PhD, EdD)|| Prefer not to respond\n"
     ]
    }
   ],
   "source": [
    "#Question List and Embeddings\n",
    "print(len(d))\n",
    "print(d[0])"
   ]
  }
 ],
 "metadata": {
  "kernelspec": {
   "display_name": "Python 3",
   "language": "python",
   "name": "python3"
  },
  "language_info": {
   "codemirror_mode": {
    "name": "ipython",
    "version": 3
   },
   "file_extension": ".py",
   "mimetype": "text/x-python",
   "name": "python",
   "nbconvert_exporter": "python",
   "pygments_lexer": "ipython3",
   "version": "3.13.2"
  }
 },
 "nbformat": 4,
 "nbformat_minor": 5
}
