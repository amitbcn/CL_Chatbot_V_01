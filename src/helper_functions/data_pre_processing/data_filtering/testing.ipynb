{
 "cells": [
  {
   "cell_type": "code",
   "execution_count": 1,
   "id": "fec1ff01",
   "metadata": {},
   "outputs": [],
   "source": [
    "# Add project root to sys.path in Jupyter or interactive session\n",
    "import sys\n",
    "import os\n",
    "sys.path.append(os.path.abspath(os.path.join(os.getcwd(), \"../../../..\")))\n",
    "\n",
    "from config.path_config import DATA_DIR, PROJECT_DIR, DEPENDENCIES_DIR, CONFIG_DIR\n",
    "from src.helper_functions.data_pre_processing.data_upload_processor.processor import *\n",
    "from src.helper_functions.data_pre_processing.data_filtering.filter_dataframe import *\n",
    "\n",
    "\n",
    "from dotenv import load_dotenv"
   ]
  },
  {
   "cell_type": "code",
   "execution_count": 2,
   "id": "d6d751f8",
   "metadata": {},
   "outputs": [],
   "source": [
    "raw_data = pd.read_excel(os.path.join(DATA_DIR, \"wave_10_raw_data.xlsx\"))\n",
    "data_map = pd.read_excel(os.path.join(DATA_DIR, \"wave_10_data_map.xlsx\"))"
   ]
  },
  {
   "cell_type": "code",
   "execution_count": 3,
   "id": "8f4644a2",
   "metadata": {},
   "outputs": [],
   "source": [
    "env_path = os.path.join(DEPENDENCIES_DIR, \".env\")\n",
    "load_dotenv(env_path)\n",
    "api_key = os.getenv(\"OPENAI_API_KEY\")"
   ]
  },
  {
   "cell_type": "code",
   "execution_count": 4,
   "id": "5020b133",
   "metadata": {},
   "outputs": [
    {
     "name": "stderr",
     "output_type": "stream",
     "text": [
      "c:\\Users\\72670\\OneDrive - Bain\\Documents\\BCN Labs\\Projects\\2024\\CL Excel Chatbot\\repo\\CL_Chatbot_V_01\\src\\helper_functions\\data_pre_processing\\data_upload_processor\\question_embedder.py:66: LangChainDeprecationWarning: The class `OpenAIEmbeddings` was deprecated in LangChain 0.0.9 and will be removed in 1.0. An updated version of the class exists in the :class:`~langchain-openai package and should be used instead. To use it run `pip install -U :class:`~langchain-openai` and import as `from :class:`~langchain_openai import OpenAIEmbeddings``.\n",
      "  embedding_model = OpenAIEmbeddings(api_key=api_key)\n"
     ]
    }
   ],
   "source": [
    "data_dict = run_question_data_pipeline(data_map, raw_data, api_key,'wave_10', encoding_type=\"OpenAI\")"
   ]
  },
  {
   "cell_type": "code",
   "execution_count": 5,
   "id": "3f6f5f63",
   "metadata": {},
   "outputs": [],
   "source": [
    "wave_name = 'wave_10'\n",
    "path = f\"default_filters\\\\{wave_name}_default_filters.yaml\"\n",
    "config_path = os.path.join(CONFIG_DIR, path)\n",
    "\n",
    "default_filters = read_yaml(config_path)"
   ]
  },
  {
   "cell_type": "code",
   "execution_count": 6,
   "id": "92fd7f4c",
   "metadata": {},
   "outputs": [],
   "source": [
    "filtered_df = add_filtering_columns(data_dict['mapped_data'], default_filters)"
   ]
  },
  {
   "cell_type": "code",
   "execution_count": 7,
   "id": "99a23364",
   "metadata": {},
   "outputs": [
    {
     "data": {
      "text/plain": [
       "{'Generation Filter': 'Baby Boomers, Gen X, Gen Z, Millennials',\n",
       " 'Alcohol Consumption Filter': 'Alcohol Averse, Alcohol Consumer',\n",
       " 'Political Alignment Filter': 'No Strong Alignment, Strongly Aligned',\n",
       " 'Area Filter': 'City (not center), City center, Other (please specify), Suburb, Town, Village',\n",
       " 'Country Filter': 'France, Germany, Italy, Poland, Spain, United Kingdom, United States',\n",
       " 'Gender Filter': 'Female / woman, Gender-fluid / Non-binary, Male / man, None of these options describe me, Prefer not to answer\\xa0',\n",
       " 'Income Filter': 'High, Low, Mid, No Response',\n",
       " 'Political Affinity Filter': 'Center, Center left, Center right, Far-Left, Far-Right, Left, None, Other, Right',\n",
       " 'Region Filter': 'East North Central, East South Central, Middle Atlantic, Mountain, New England, Pacific, South Atlantic, West North Central, West South Central'}"
      ]
     },
     "execution_count": 7,
     "metadata": {},
     "output_type": "execute_result"
    }
   ],
   "source": [
    "generate_filter_value_dict(filtered_df, default_filters)"
   ]
  },
  {
   "cell_type": "code",
   "execution_count": null,
   "id": "b859b3e5",
   "metadata": {},
   "outputs": [],
   "source": []
  }
 ],
 "metadata": {
  "kernelspec": {
   "display_name": "Python 3",
   "language": "python",
   "name": "python3"
  },
  "language_info": {
   "codemirror_mode": {
    "name": "ipython",
    "version": 3
   },
   "file_extension": ".py",
   "mimetype": "text/x-python",
   "name": "python",
   "nbconvert_exporter": "python",
   "pygments_lexer": "ipython3",
   "version": "3.13.2"
  }
 },
 "nbformat": 4,
 "nbformat_minor": 5
}
